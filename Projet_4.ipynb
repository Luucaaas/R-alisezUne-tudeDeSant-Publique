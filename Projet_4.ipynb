{
 "cells": [
  {
   "cell_type": "markdown",
   "id": "c23ab4bf",
   "metadata": {},
   "source": [
    "# Projet 4 \n",
    "\n",
    "## Description \n",
    "\n",
    "Étude de la mal nutrition dans le monde à partir de 4 fichiers csv contenant des données de 2013 à 2017.\n",
    "\n",
    "La premiere partie de cette étude est concacré à l'année 2017\n"
   ]
  },
  {
   "cell_type": "code",
   "execution_count": 213,
   "id": "55f05273",
   "metadata": {},
   "outputs": [],
   "source": [
    "import numpy as np\n",
    "import pandas as pd\n",
    "import matplotlib.pyplot as plt\n",
    "import seaborn as sns  \n",
    "import plotly.express as px"
   ]
  },
  {
   "cell_type": "code",
   "execution_count": 202,
   "id": "60820fc6",
   "metadata": {},
   "outputs": [],
   "source": [
    "aide_alimentaire = pd.read_csv('CSV/aide_alimentaire.csv')\n",
    "sous_nutrition = pd.read_csv('CSV/sous_nutrition.csv')\n",
    "dispo_alimentaire = pd.read_csv('CSV/dispo_alimentaire.csv')\n",
    "population = pd.read_csv('CSV/population.csv')"
   ]
  },
  {
   "cell_type": "code",
   "execution_count": 203,
   "id": "a9156710",
   "metadata": {
    "scrolled": false
   },
   "outputs": [
    {
     "data": {
      "text/html": [
       "<div>\n",
       "<style scoped>\n",
       "    .dataframe tbody tr th:only-of-type {\n",
       "        vertical-align: middle;\n",
       "    }\n",
       "\n",
       "    .dataframe tbody tr th {\n",
       "        vertical-align: top;\n",
       "    }\n",
       "\n",
       "    .dataframe thead th {\n",
       "        text-align: right;\n",
       "    }\n",
       "</style>\n",
       "<table border=\"1\" class=\"dataframe\">\n",
       "  <thead>\n",
       "    <tr style=\"text-align: right;\">\n",
       "      <th></th>\n",
       "      <th>Zone</th>\n",
       "      <th>Année</th>\n",
       "      <th>Valeur</th>\n",
       "    </tr>\n",
       "  </thead>\n",
       "  <tbody>\n",
       "    <tr>\n",
       "      <th>0</th>\n",
       "      <td>Afghanistan</td>\n",
       "      <td>2012-2014</td>\n",
       "      <td>8.6</td>\n",
       "    </tr>\n",
       "    <tr>\n",
       "      <th>1</th>\n",
       "      <td>Afghanistan</td>\n",
       "      <td>2013-2015</td>\n",
       "      <td>8.8</td>\n",
       "    </tr>\n",
       "    <tr>\n",
       "      <th>2</th>\n",
       "      <td>Afghanistan</td>\n",
       "      <td>2014-2016</td>\n",
       "      <td>8.9</td>\n",
       "    </tr>\n",
       "    <tr>\n",
       "      <th>3</th>\n",
       "      <td>Afghanistan</td>\n",
       "      <td>2015-2017</td>\n",
       "      <td>9.7</td>\n",
       "    </tr>\n",
       "    <tr>\n",
       "      <th>4</th>\n",
       "      <td>Afghanistan</td>\n",
       "      <td>2016-2018</td>\n",
       "      <td>10.5</td>\n",
       "    </tr>\n",
       "  </tbody>\n",
       "</table>\n",
       "</div>"
      ],
      "text/plain": [
       "          Zone      Année Valeur\n",
       "0  Afghanistan  2012-2014    8.6\n",
       "1  Afghanistan  2013-2015    8.8\n",
       "2  Afghanistan  2014-2016    8.9\n",
       "3  Afghanistan  2015-2017    9.7\n",
       "4  Afghanistan  2016-2018   10.5"
      ]
     },
     "metadata": {},
     "output_type": "display_data"
    },
    {
     "data": {
      "text/html": [
       "<div>\n",
       "<style scoped>\n",
       "    .dataframe tbody tr th:only-of-type {\n",
       "        vertical-align: middle;\n",
       "    }\n",
       "\n",
       "    .dataframe tbody tr th {\n",
       "        vertical-align: top;\n",
       "    }\n",
       "\n",
       "    .dataframe thead th {\n",
       "        text-align: right;\n",
       "    }\n",
       "</style>\n",
       "<table border=\"1\" class=\"dataframe\">\n",
       "  <thead>\n",
       "    <tr style=\"text-align: right;\">\n",
       "      <th></th>\n",
       "      <th>Zone</th>\n",
       "      <th>Année</th>\n",
       "      <th>Valeur</th>\n",
       "    </tr>\n",
       "  </thead>\n",
       "  <tbody>\n",
       "    <tr>\n",
       "      <th>0</th>\n",
       "      <td>Afghanistan</td>\n",
       "      <td>2013</td>\n",
       "      <td>32269.589</td>\n",
       "    </tr>\n",
       "    <tr>\n",
       "      <th>1</th>\n",
       "      <td>Afghanistan</td>\n",
       "      <td>2014</td>\n",
       "      <td>33370.794</td>\n",
       "    </tr>\n",
       "    <tr>\n",
       "      <th>2</th>\n",
       "      <td>Afghanistan</td>\n",
       "      <td>2015</td>\n",
       "      <td>34413.603</td>\n",
       "    </tr>\n",
       "    <tr>\n",
       "      <th>3</th>\n",
       "      <td>Afghanistan</td>\n",
       "      <td>2016</td>\n",
       "      <td>35383.032</td>\n",
       "    </tr>\n",
       "    <tr>\n",
       "      <th>4</th>\n",
       "      <td>Afghanistan</td>\n",
       "      <td>2017</td>\n",
       "      <td>36296.113</td>\n",
       "    </tr>\n",
       "  </tbody>\n",
       "</table>\n",
       "</div>"
      ],
      "text/plain": [
       "          Zone  Année     Valeur\n",
       "0  Afghanistan   2013  32269.589\n",
       "1  Afghanistan   2014  33370.794\n",
       "2  Afghanistan   2015  34413.603\n",
       "3  Afghanistan   2016  35383.032\n",
       "4  Afghanistan   2017  36296.113"
      ]
     },
     "metadata": {},
     "output_type": "display_data"
    }
   ],
   "source": [
    "#display(aide_alimentaire.head())\n",
    "display(sous_nutrition.head())\n",
    "#display(dispo_alimentaire.head())\n",
    "display(population.head())\n",
    "\n"
   ]
  },
  {
   "cell_type": "markdown",
   "id": "af0be83d",
   "metadata": {},
   "source": [
    "Je choisis de prend 0.025 pour les population <0.1"
   ]
  },
  {
   "cell_type": "code",
   "execution_count": 204,
   "id": "27d5bf6e",
   "metadata": {
    "scrolled": false
   },
   "outputs": [
    {
     "name": "stdout",
     "output_type": "stream",
     "text": [
      "En 2017, la poopulation total etait de 7548134000 et la quantitée de personne sous nourris etait de 536.2 ce qui fait qu'en 2017 7.1 % de la population était mal nourris\n"
     ]
    }
   ],
   "source": [
    "sous_nutrition.loc[sous_nutrition['Valeur'] == '<0.1', 'Valeur'] = '0.025'\n",
    "sous_nutrition['Valeur'] = sous_nutrition[\"Valeur\"].astype(float)\n",
    "sous_nutrition[\"Valeur\"].fillna(value=0, inplace=True)\n",
    "sous_nutrition_2017 = sous_nutrition.loc[(sous_nutrition['Année']=='2016-2018'),:]\n",
    "total_sous_nutrition_2017 = sous_nutrition_2017['Valeur'].sum()\n",
    "population_2017 = round(population.loc[population['Année']== 2017 ,'Valeur'].sum(),) * 1000\n",
    "proportion_malnutrition_2017 = round((total_sous_nutrition_2017 * 1000000) / population_2017,3)\n",
    "\n",
    "\n",
    "print(\"En 2017, la poopulation total etait de\",population_2017,\"et la quantitée de personne sous nourris etait de\",total_sous_nutrition_2017,\"ce qui fait qu'en 2017\",proportion_malnutrition_2017*100,\"% de la population était mal nourris\")"
   ]
  },
  {
   "cell_type": "markdown",
   "id": "c0714087",
   "metadata": {},
   "source": [
    "Il faut en moyenne 2500Kcal/personne/jour "
   ]
  },
  {
   "cell_type": "code",
   "execution_count": 205,
   "id": "c3d06e14",
   "metadata": {},
   "outputs": [
    {
     "name": "stdout",
     "output_type": "stream",
     "text": [
      "8367593851 humains peuvent etre nourris\n",
      "soit une proportion de  110.9 %\n"
     ]
    }
   ],
   "source": [
    "dispoAlimMondial = pd.merge(dispo_alimentaire[[\"Zone\",\"Disponibilité alimentaire (Kcal/personne/jour)\",\"Origine\"]],population.loc[population[\"Année\"]==2017,[\"Zone\",\"Valeur\"]],how='left',on='Zone')\n",
    "dispoAlimMondial[\"dispo_Kcal\"] = dispoAlimMondial[\"Disponibilité alimentaire (Kcal/personne/jour)\"] * dispoAlimMondial[\"Valeur\"] * 365\n",
    "totalKcalHumain = round((dispoAlimMondial[\"dispo_Kcal\"].sum()*1000)/(2500*365),)\n",
    "print(totalKcalHumain,\"humains peuvent etre nourris\")\n",
    "propTotalKcalHumain = round((totalKcalHumain*100)/ (population_2017),1)\n",
    "print(\"soit une proportion de \",propTotalKcalHumain,\"%\")\n"
   ]
  },
  {
   "cell_type": "code",
   "execution_count": 206,
   "id": "4486f245",
   "metadata": {},
   "outputs": [
    {
     "name": "stdout",
     "output_type": "stream",
     "text": [
      "6904305685 humains peuvent etre nourris avec de la nourriture vegetal\n",
      "soit une proportion de  91.5 %\n"
     ]
    }
   ],
   "source": [
    "dispoAlimMondialVege = dispoAlimMondial.loc[dispoAlimMondial[\"Origine\"]==\"vegetale\"]\n",
    "totalKcalHumainVege = round((dispoAlimMondialVege[\"dispo_Kcal\"].sum()*1000)/(2500*365),)\n",
    "print(totalKcalHumainVege,\"humains peuvent etre nourris avec de la nourriture vegetal\")\n",
    "propTotalKcalHumainVege = round((totalKcalHumainVege*100)/ (population_2017),1)\n",
    "print(\"soit une proportion de \",propTotalKcalHumainVege,\"%\")"
   ]
  },
  {
   "cell_type": "code",
   "execution_count": 207,
   "id": "c823565d",
   "metadata": {},
   "outputs": [
    {
     "data": {
      "image/png": "[encoded data removed]",
      "text/plain": [
       "<Figure size 640x480 with 1 Axes>"
      ]
     },
     "metadata": {},
     "output_type": "display_data"
    }
   ],
   "source": [
    "liste = ['Semences','Pertes','Nourriture','Aliments pour animaux',\"Traitement\",\"Autres Utilisations\"]\n",
    "liste2 = []\n",
    "for variable in liste:\n",
    "    a = dispo_alimentaire[variable].sum()\n",
    "    liste2.append(a)\n",
    "df1 = pd.DataFrame(liste2, index=liste, columns=[\"Totaux1\"])\n",
    "graphPie1 = plt.pie(x=df1[\"Totaux1\"], labels=liste, autopct='%.0f%%')\n",
    "\n"
   ]
  },
  {
   "cell_type": "markdown",
   "id": "c46c334c",
   "metadata": {},
   "source": [
    "Proportion de personnes sous alimenté la plus forte"
   ]
  },
  {
   "cell_type": "code",
   "execution_count": 224,
   "id": "d8629d69",
   "metadata": {},
   "outputs": [
    {
     "name": "stderr",
     "output_type": "stream",
     "text": [
      "/var/folders/9z/twqnyxm936n71h0b6v7yr8vh0000gn/T/ipykernel_99942/791134066.py:1: SettingWithCopyWarning: \n",
      "A value is trying to be set on a copy of a slice from a DataFrame\n",
      "\n",
      "See the caveats in the documentation: https://pandas.pydata.org/pandas-docs/stable/user_guide/indexing.html#returning-a-view-versus-a-copy\n",
      "  sous_nutrition_2017.rename(columns={'Valeur': 'Population sous alimenté'}, inplace=True)\n",
      "/var/folders/9z/twqnyxm936n71h0b6v7yr8vh0000gn/T/ipykernel_99942/791134066.py:3: SettingWithCopyWarning: \n",
      "A value is trying to be set on a copy of a slice from a DataFrame\n",
      "\n",
      "See the caveats in the documentation: https://pandas.pydata.org/pandas-docs/stable/user_guide/indexing.html#returning-a-view-versus-a-copy\n",
      "  Population2017.rename(columns={'Valeur': 'Population'},inplace=True)\n"
     ]
    },
    {
     "data": {
      "text/plain": [
       "<AxesSubplot:xlabel='Proportion', ylabel='Zone'>"
      ]
     },
     "execution_count": 224,
     "metadata": {},
     "output_type": "execute_result"
    },
    {
     "data": {
      "image/png": "[encoded data removed]",
      "text/plain": [
       "<Figure size 640x480 with 1 Axes>"
      ]
     },
     "metadata": {},
     "output_type": "display_data"
    }
   ],
   "source": [
    "sous_nutrition_2017.rename(columns={'Valeur': 'Population sous alimenté'}, inplace=True)\n",
    "Population2017 = population.loc[population['Année']==2017]\n",
    "Population2017.rename(columns={'Valeur': 'Population'},inplace=True)\n",
    "Population2017.head()\n",
    "Propotion_sous_alimentation = pd.merge(sous_nutrition_2017[['Zone','Population sous alimenté']],Population2017[[\"Zone\",\"Population\"]], on='Zone')\n",
    "Propotion_sous_alimentation[\"Proportion\"] = (Propotion_sous_alimentation[\"Population sous alimenté\"]*1000000)/(Propotion_sous_alimentation[\"Population\"]*1000)\n",
    "Propotion_sous_alimentation.sort_values('Proportion',ascending=False).head(10)\n",
    "\n",
    "sns.barplot(x=\"Proportion\",y=\"Zone\",data=Propotion_sous_alimentation.sort_values('Proportion',ascending=False).head(15))"
   ]
  },
  {
   "cell_type": "markdown",
   "id": "18f3d332",
   "metadata": {},
   "source": [
    "Beneficiaire d'aide alimentaire"
   ]
  },
  {
   "cell_type": "code",
   "execution_count": 209,
   "id": "5ae11ea7",
   "metadata": {},
   "outputs": [
    {
     "data": {
      "text/html": [
       "<div>\n",
       "<style scoped>\n",
       "    .dataframe tbody tr th:only-of-type {\n",
       "        vertical-align: middle;\n",
       "    }\n",
       "\n",
       "    .dataframe tbody tr th {\n",
       "        vertical-align: top;\n",
       "    }\n",
       "\n",
       "    .dataframe thead th {\n",
       "        text-align: right;\n",
       "    }\n",
       "</style>\n",
       "<table border=\"1\" class=\"dataframe\">\n",
       "  <thead>\n",
       "    <tr style=\"text-align: right;\">\n",
       "      <th></th>\n",
       "      <th>Valeur</th>\n",
       "    </tr>\n",
       "    <tr>\n",
       "      <th>Pays bénéficiaire</th>\n",
       "      <th></th>\n",
       "    </tr>\n",
       "  </thead>\n",
       "  <tbody>\n",
       "    <tr>\n",
       "      <th>République arabe syrienne</th>\n",
       "      <td>1858943</td>\n",
       "    </tr>\n",
       "    <tr>\n",
       "      <th>Éthiopie</th>\n",
       "      <td>1381294</td>\n",
       "    </tr>\n",
       "    <tr>\n",
       "      <th>Yémen</th>\n",
       "      <td>1206484</td>\n",
       "    </tr>\n",
       "    <tr>\n",
       "      <th>Soudan du Sud</th>\n",
       "      <td>695248</td>\n",
       "    </tr>\n",
       "    <tr>\n",
       "      <th>Soudan</th>\n",
       "      <td>669784</td>\n",
       "    </tr>\n",
       "  </tbody>\n",
       "</table>\n",
       "</div>"
      ],
      "text/plain": [
       "                            Valeur\n",
       "Pays bénéficiaire                 \n",
       "République arabe syrienne  1858943\n",
       "Éthiopie                   1381294\n",
       "Yémen                      1206484\n",
       "Soudan du Sud               695248\n",
       "Soudan                      669784"
      ]
     },
     "execution_count": 209,
     "metadata": {},
     "output_type": "execute_result"
    }
   ],
   "source": [
    "\n",
    "aide = aide_alimentaire[[\"Pays bénéficiaire\", \"Valeur\"]].groupby([\"Pays bénéficiaire\"]).sum()\n",
    "aide.sort_values(\"Valeur\", ascending=False).head()\n",
    "\n"
   ]
  },
  {
   "cell_type": "markdown",
   "id": "386df682",
   "metadata": {},
   "source": [
    "Disponibilité/habitant "
   ]
  },
  {
   "cell_type": "code",
   "execution_count": 210,
   "id": "f74f73b5",
   "metadata": {},
   "outputs": [
    {
     "data": {
      "text/html": [
       "<div>\n",
       "<style scoped>\n",
       "    .dataframe tbody tr th:only-of-type {\n",
       "        vertical-align: middle;\n",
       "    }\n",
       "\n",
       "    .dataframe tbody tr th {\n",
       "        vertical-align: top;\n",
       "    }\n",
       "\n",
       "    .dataframe thead th {\n",
       "        text-align: right;\n",
       "    }\n",
       "</style>\n",
       "<table border=\"1\" class=\"dataframe\">\n",
       "  <thead>\n",
       "    <tr style=\"text-align: right;\">\n",
       "      <th></th>\n",
       "      <th>Zone</th>\n",
       "      <th>Disponibilité alimentaire (Kcal/personne/jour)</th>\n",
       "      <th>Population (en millier d'habitants)</th>\n",
       "    </tr>\n",
       "  </thead>\n",
       "  <tbody>\n",
       "    <tr>\n",
       "      <th>0</th>\n",
       "      <td>Autriche</td>\n",
       "      <td>3770.0</td>\n",
       "      <td>8556.189</td>\n",
       "    </tr>\n",
       "    <tr>\n",
       "      <th>1</th>\n",
       "      <td>Belgique</td>\n",
       "      <td>3737.0</td>\n",
       "      <td>11154.009</td>\n",
       "    </tr>\n",
       "    <tr>\n",
       "      <th>2</th>\n",
       "      <td>Turquie</td>\n",
       "      <td>3708.0</td>\n",
       "      <td>75925.462</td>\n",
       "    </tr>\n",
       "    <tr>\n",
       "      <th>3</th>\n",
       "      <td>États-Unis d'Amérique</td>\n",
       "      <td>3682.0</td>\n",
       "      <td>316400.538</td>\n",
       "    </tr>\n",
       "    <tr>\n",
       "      <th>4</th>\n",
       "      <td>Israël</td>\n",
       "      <td>3610.0</td>\n",
       "      <td>7734.841</td>\n",
       "    </tr>\n",
       "    <tr>\n",
       "      <th>...</th>\n",
       "      <td>...</td>\n",
       "      <td>...</td>\n",
       "      <td>...</td>\n",
       "    </tr>\n",
       "    <tr>\n",
       "      <th>169</th>\n",
       "      <td>Haïti</td>\n",
       "      <td>2089.0</td>\n",
       "      <td>10400.675</td>\n",
       "    </tr>\n",
       "    <tr>\n",
       "      <th>170</th>\n",
       "      <td>Afghanistan</td>\n",
       "      <td>2087.0</td>\n",
       "      <td>32269.589</td>\n",
       "    </tr>\n",
       "    <tr>\n",
       "      <th>171</th>\n",
       "      <td>Madagascar</td>\n",
       "      <td>2056.0</td>\n",
       "      <td>22961.255</td>\n",
       "    </tr>\n",
       "    <tr>\n",
       "      <th>172</th>\n",
       "      <td>Zambie</td>\n",
       "      <td>1924.0</td>\n",
       "      <td>14926.544</td>\n",
       "    </tr>\n",
       "    <tr>\n",
       "      <th>173</th>\n",
       "      <td>République centrafricaine</td>\n",
       "      <td>1879.0</td>\n",
       "      <td>4447.944</td>\n",
       "    </tr>\n",
       "  </tbody>\n",
       "</table>\n",
       "<p>174 rows × 3 columns</p>\n",
       "</div>"
      ],
      "text/plain": [
       "                          Zone  \\\n",
       "0                     Autriche   \n",
       "1                     Belgique   \n",
       "2                      Turquie   \n",
       "3        États-Unis d'Amérique   \n",
       "4                       Israël   \n",
       "..                         ...   \n",
       "169                      Haïti   \n",
       "170                Afghanistan   \n",
       "171                 Madagascar   \n",
       "172                     Zambie   \n",
       "173  République centrafricaine   \n",
       "\n",
       "     Disponibilité alimentaire (Kcal/personne/jour)  \\\n",
       "0                                            3770.0   \n",
       "1                                            3737.0   \n",
       "2                                            3708.0   \n",
       "3                                            3682.0   \n",
       "4                                            3610.0   \n",
       "..                                              ...   \n",
       "169                                          2089.0   \n",
       "170                                          2087.0   \n",
       "171                                          2056.0   \n",
       "172                                          1924.0   \n",
       "173                                          1879.0   \n",
       "\n",
       "     Population (en millier d'habitants)  \n",
       "0                               8556.189  \n",
       "1                              11154.009  \n",
       "2                              75925.462  \n",
       "3                             316400.538  \n",
       "4                               7734.841  \n",
       "..                                   ...  \n",
       "169                            10400.675  \n",
       "170                            32269.589  \n",
       "171                            22961.255  \n",
       "172                            14926.544  \n",
       "173                             4447.944  \n",
       "\n",
       "[174 rows x 3 columns]"
      ]
     },
     "execution_count": 210,
     "metadata": {},
     "output_type": "execute_result"
    }
   ],
   "source": [
    "dispoAlimentaire2013 = dispo_alimentaire.groupby([\"Zone\"]).sum(\"Disponibilité alimentaire (Kcal/personne/jour)\")\n",
    "dispoAlimentaire2013 = dispoAlimentaire2013[[\"Disponibilité alimentaire (Kcal/personne/jour)\"]]\n",
    "dispoAlimentaire2013 = dispoAlimentaire2013.sort_values(\"Disponibilité alimentaire (Kcal/personne/jour)\", ascending=False)\n",
    "popu2013 = population.loc[population[\"Année\"]==2013,[\"Zone\",\"Valeur\"]]\n",
    "dispHabitant = pd.merge(dispoAlimentaire2013, popu2013, on='Zone', how='left')\n",
    "dispHabitant.rename(columns={'Valeur' : \"Population (en millier d'habitants)\"})"
   ]
  },
  {
   "cell_type": "markdown",
   "id": "2167b296",
   "metadata": {},
   "source": [
    "Repartiton des cereales"
   ]
  },
  {
   "cell_type": "code",
   "execution_count": 211,
   "id": "0f60e9a6",
   "metadata": {},
   "outputs": [
    {
     "name": "stdout",
     "output_type": "stream",
     "text": [
      "la proportion de cereales utilisé pour l'alimentation humaine est de 42.8 %\n",
      "la proportion de cereales utilisé pour l'alimentation des animaux est de 36.3 %\n"
     ]
    }
   ],
   "source": [
    "FaoCereal = pd.read_csv(\"CSV/FaoCereal.csv\")\n",
    "ListeCereal = FaoCereal.iloc[:,7]\n",
    "ListeCereal = ListeCereal.unique()\n",
    "ListeCereal = ListeCereal.tolist()\n",
    "ListeCerealnew = []\n",
    "for mot in ListeCereal :\n",
    "    if mot[len(mot)-11:] == \"et produits\":\n",
    "        ListeCerealnew.append(mot[:len(mot)-12])\n",
    "    else :\n",
    "        ListeCerealnew.append(mot)\n",
    "ListeCerealnew.remove(\"Riz\")\n",
    "ListeCerealnew.append(\"Riz (Eq Blanchi)\")\n",
    "\n",
    "dispo_cereal = dispo_alimentaire.loc[dispo_alimentaire['Produit'].isin(ListeCerealnew), ('Produit','Aliments pour animaux','Nourriture',\"Disponibilité intérieure\")]\n",
    "dispo_cereal.fillna(value=0, inplace=True)\n",
    "dispo_cereal = (dispo_cereal.groupby('Produit').sum()[['Aliments pour animaux','Nourriture',\"Disponibilité intérieure\"]])\n",
    "dispo_cereal.loc[\"Total\"]=dispo_cereal.sum()\n",
    "\n",
    "proportion_nourriture = (dispo_cereal[\"Nourriture\"].sum()*100)/(dispo_cereal[\"Disponibilité intérieure\"].sum())\n",
    "proportion_aliment = (dispo_cereal[\"Aliments pour animaux\"].sum()*100)/(dispo_cereal[\"Disponibilité intérieure\"].sum())\n",
    "print(\"la proportion de cereales utilisé pour l'alimentation humaine est de\", round(proportion_nourriture,1),'%')\n",
    "print(\"la proportion de cereales utilisé pour l'alimentation des animaux est de\", round(proportion_aliment,1),\"%\")"
   ]
  },
  {
   "cell_type": "markdown",
   "id": "782564d5",
   "metadata": {},
   "source": [
    "Manioc"
   ]
  },
  {
   "cell_type": "code",
   "execution_count": null,
   "id": "98a21e7d",
   "metadata": {},
   "outputs": [],
   "source": []
  }
 ],
 "metadata": {
  "kernelspec": {
   "display_name": "Python 3.10.6 ('p4')",
   "language": "python",
   "name": "python3"
  },
  "language_info": {
   "codemirror_mode": {
    "name": "ipython",
    "version": 3
   },
   "file_extension": ".py",
   "mimetype": "text/x-python",
   "name": "python",
   "nbconvert_exporter": "python",
   "pygments_lexer": "ipython3",
   "version": "3.10.6"
  },
  "vscode": {
   "interpreter": {
    "hash": "fb224a7770221bd3841783a73a59dbea17b6fbf44ec23333175a084a7397c979"
   }
  }
 },
 "nbformat": 4,
 "nbformat_minor": 5
}
